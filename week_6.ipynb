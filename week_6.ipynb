{
  "cells": [
    {
      "cell_type": "markdown",
      "metadata": {
        "id": "view-in-github",
        "colab_type": "text"
      },
      "source": [
        "<a href=\"https://colab.research.google.com/github/tpemartin/111-1-econDV/blob/main/week_6.ipynb\" target=\"_parent\"><img src=\"https://colab.research.google.com/assets/colab-badge.svg\" alt=\"Open In Colab\"/></a>"
      ]
    },
    {
      "cell_type": "markdown",
      "metadata": {
        "id": "RZrllojDGMNu"
      },
      "source": [
        "# Data\n",
        "\n",
        "  * <https://od.moi.gov.tw/api/v1/rest/datastore/301000000A-001661-009>\n"
      ]
    },
    {
      "cell_type": "code",
      "execution_count": null,
      "metadata": {
        "id": "khof6GBkYjOo",
        "colab": {
          "base_uri": "https://localhost:8080/"
        },
        "outputId": "bc330c03-2517-47ed-922e-ab64ae0c4e51"
      },
      "outputs": [
        {
          "output_type": "stream",
          "name": "stderr",
          "text": [
            "Loading required package: showtext\n",
            "\n",
            "Warning message in library(package, lib.loc = lib.loc, character.only = TRUE, logical.return = TRUE, :\n",
            "“there is no package called ‘showtext’”\n",
            "Installing package into ‘/usr/local/lib/R/site-library’\n",
            "(as ‘lib’ is unspecified)\n",
            "\n",
            "also installing the dependencies ‘sysfonts’, ‘showtextdb’\n",
            "\n",
            "\n"
          ]
        }
      ],
      "source": [
        "if(!require(showtext)) install.packages(\"showtext\")\n",
        "showtext::showtext_auto()\n",
        "library(ggplot2)\n",
        "# set our graph theme to use the google font and a classic white back ground\n",
        "theme_set(\n",
        "  theme(\n",
        "    text=element_text(family = \"Noto Sans TC\")\n",
        "  )+\n",
        "    theme_classic()\n",
        ")"
      ]
    },
    {
      "cell_type": "code",
      "execution_count": null,
      "metadata": {
        "id": "wdeUPDZOMKKO",
        "colab": {
          "base_uri": "https://localhost:8080/"
        },
        "outputId": "407757c1-919e-4c89-a319-cf9284752196"
      },
      "outputs": [
        {
          "output_type": "stream",
          "name": "stderr",
          "text": [
            "File downloaded:\n",
            "\n",
            "\u001b[36m•\u001b[39m \u001b[36mmarriage.csv\u001b[39m \u001b[90m<id: 1K8IWyy7G9LAKewjVXMGD8kUbbvjGoRT7>\u001b[39m\n",
            "\n",
            "Saved locally as:\n",
            "\n",
            "\u001b[36m•\u001b[39m \u001b[34mmarriage.csv\u001b[39m\n",
            "\n"
          ]
        }
      ],
      "source": [
        "googledrive::drive_deauth()\n",
        "googledrive::drive_download(\n",
        "  file=googledrive::as_id(\"https://drive.google.com/file/d/1K8IWyy7G9LAKewjVXMGD8kUbbvjGoRT7/view?usp=sharing\"),\n",
        "  overwrite = T\n",
        ")"
      ]
    },
    {
      "cell_type": "code",
      "execution_count": null,
      "metadata": {
        "id": "SJPjG3lCNrVt",
        "colab": {
          "base_uri": "https://localhost:8080/",
          "height": 408
        },
        "outputId": "cb982baf-a7f9-488f-f3e4-6281d98f49d0"
      },
      "outputs": [
        {
          "output_type": "stream",
          "name": "stderr",
          "text": [
            "\u001b[1mRows: \u001b[22m\u001b[34m746305\u001b[39m \u001b[1mColumns: \u001b[22m\u001b[34m7\u001b[39m\n",
            "\u001b[36m──\u001b[39m \u001b[1mColumn specification\u001b[22m \u001b[36m────────────────────────────────────────────────────────\u001b[39m\n",
            "\u001b[1mDelimiter:\u001b[22m \",\"\n",
            "\u001b[31mchr\u001b[39m (7): statistic_yyy, according, site_id, marriage_type, female_age_or_spo...\n",
            "\n",
            "\u001b[36mℹ\u001b[39m Use `spec()` to retrieve the full column specification for this data.\n",
            "\u001b[36mℹ\u001b[39m Specify the column types or set `show_col_types = FALSE` to quiet this message.\n"
          ]
        },
        {
          "output_type": "display_data",
          "data": {
            "text/html": [
              "<table class=\"dataframe\">\n",
              "<caption>A tibble: 6 × 7</caption>\n",
              "<thead>\n",
              "\t<tr><th scope=col>statistic_yyy</th><th scope=col>according</th><th scope=col>site_id</th><th scope=col>marriage_type</th><th scope=col>female_age_or_spouse1</th><th scope=col>male_age_or_spouse2</th><th scope=col>marry_pair</th></tr>\n",
              "\t<tr><th scope=col>&lt;chr&gt;</th><th scope=col>&lt;chr&gt;</th><th scope=col>&lt;chr&gt;</th><th scope=col>&lt;chr&gt;</th><th scope=col>&lt;chr&gt;</th><th scope=col>&lt;chr&gt;</th><th scope=col>&lt;chr&gt;</th></tr>\n",
              "</thead>\n",
              "<tbody>\n",
              "\t<tr><td>統計年度</td><td>按照別      </td><td>區域別      </td><td>婚姻類型</td><td>女方年齡或配偶一方年齡</td><td>男方年齡或配偶另一方年齡</td><td>結婚對數</td></tr>\n",
              "\t<tr><td>110     </td><td>按登記日期分</td><td>新北市板橋區</td><td>不同性別</td><td>未滿15歲              </td><td>未滿15歲                </td><td>0       </td></tr>\n",
              "\t<tr><td>110     </td><td>按登記日期分</td><td>新北市板橋區</td><td>不同性別</td><td>未滿15歲              </td><td>15歲                    </td><td>0       </td></tr>\n",
              "\t<tr><td>110     </td><td>按登記日期分</td><td>新北市板橋區</td><td>不同性別</td><td>未滿15歲              </td><td>16歲                    </td><td>0       </td></tr>\n",
              "\t<tr><td>110     </td><td>按登記日期分</td><td>新北市板橋區</td><td>不同性別</td><td>未滿15歲              </td><td>17歲                    </td><td>0       </td></tr>\n",
              "\t<tr><td>110     </td><td>按登記日期分</td><td>新北市板橋區</td><td>不同性別</td><td>未滿15歲              </td><td>18歲                    </td><td>0       </td></tr>\n",
              "</tbody>\n",
              "</table>\n"
            ],
            "text/markdown": "\nA tibble: 6 × 7\n\n| statistic_yyy &lt;chr&gt; | according &lt;chr&gt; | site_id &lt;chr&gt; | marriage_type &lt;chr&gt; | female_age_or_spouse1 &lt;chr&gt; | male_age_or_spouse2 &lt;chr&gt; | marry_pair &lt;chr&gt; |\n|---|---|---|---|---|---|---|\n| 統計年度 | 按照別       | 區域別       | 婚姻類型 | 女方年齡或配偶一方年齡 | 男方年齡或配偶另一方年齡 | 結婚對數 |\n| 110      | 按登記日期分 | 新北市板橋區 | 不同性別 | 未滿15歲               | 未滿15歲                 | 0        |\n| 110      | 按登記日期分 | 新北市板橋區 | 不同性別 | 未滿15歲               | 15歲                     | 0        |\n| 110      | 按登記日期分 | 新北市板橋區 | 不同性別 | 未滿15歲               | 16歲                     | 0        |\n| 110      | 按登記日期分 | 新北市板橋區 | 不同性別 | 未滿15歲               | 17歲                     | 0        |\n| 110      | 按登記日期分 | 新北市板橋區 | 不同性別 | 未滿15歲               | 18歲                     | 0        |\n\n",
            "text/latex": "A tibble: 6 × 7\n\\begin{tabular}{lllllll}\n statistic\\_yyy & according & site\\_id & marriage\\_type & female\\_age\\_or\\_spouse1 & male\\_age\\_or\\_spouse2 & marry\\_pair\\\\\n <chr> & <chr> & <chr> & <chr> & <chr> & <chr> & <chr>\\\\\n\\hline\n\t 統計年度 & 按照別       & 區域別       & 婚姻類型 & 女方年齡或配偶一方年齡 & 男方年齡或配偶另一方年齡 & 結婚對數\\\\\n\t 110      & 按登記日期分 & 新北市板橋區 & 不同性別 & 未滿15歲               & 未滿15歲                 & 0       \\\\\n\t 110      & 按登記日期分 & 新北市板橋區 & 不同性別 & 未滿15歲               & 15歲                     & 0       \\\\\n\t 110      & 按登記日期分 & 新北市板橋區 & 不同性別 & 未滿15歲               & 16歲                     & 0       \\\\\n\t 110      & 按登記日期分 & 新北市板橋區 & 不同性別 & 未滿15歲               & 17歲                     & 0       \\\\\n\t 110      & 按登記日期分 & 新北市板橋區 & 不同性別 & 未滿15歲               & 18歲                     & 0       \\\\\n\\end{tabular}\n",
            "text/plain": [
              "  statistic_yyy according    site_id      marriage_type female_age_or_spouse1 \n",
              "1 統計年度      按照別       區域別       婚姻類型      女方年齡或配偶一方年齡\n",
              "2 110           按登記日期分 新北市板橋區 不同性別      未滿15歲              \n",
              "3 110           按登記日期分 新北市板橋區 不同性別      未滿15歲              \n",
              "4 110           按登記日期分 新北市板橋區 不同性別      未滿15歲              \n",
              "5 110           按登記日期分 新北市板橋區 不同性別      未滿15歲              \n",
              "6 110           按登記日期分 新北市板橋區 不同性別      未滿15歲              \n",
              "  male_age_or_spouse2      marry_pair\n",
              "1 男方年齡或配偶另一方年齡 結婚對數  \n",
              "2 未滿15歲                 0         \n",
              "3 15歲                     0         \n",
              "4 16歲                     0         \n",
              "5 17歲                     0         \n",
              "6 18歲                     0         "
            ]
          },
          "metadata": {}
        }
      ],
      "source": [
        "library(readr)\n",
        "marriage <- read_csv(\"marriage.csv\")\n",
        "head(marriage)"
      ]
    },
    {
      "cell_type": "code",
      "execution_count": null,
      "metadata": {
        "id": "D-09xOciU1LD"
      },
      "outputs": [],
      "source": [
        "library(dplyr)\n",
        "marriageTaoYuan = {\n",
        "  marriage |>\n",
        "    dplyr::filter(\n",
        "      # 只看桃園市\n",
        "      stringr::str_detect(site_id,\"桃園市\")\n",
        "    ) -> marriageTaoYuan\n",
        "  marriageTaoYuan |>\n",
        "    # 創造行政區欄位\n",
        "    mutate(\n",
        "      site_id2 = stringr::str_sub(site_id,4,6)\n",
        "    ) \n",
        "  \n",
        "}"
      ]
    },
    {
      "cell_type": "markdown",
      "source": [
        "```\n",
        "marriageTaoYuan = { ... } \n",
        "```\n",
        "\n",
        "bind `marriageTaoYuan` with the last visible value in the programming block `{...}`. In this case, it is the last `mutate` step output"
      ],
      "metadata": {
        "id": "ikG6-RecTK4z"
      }
    },
    {
      "cell_type": "code",
      "execution_count": null,
      "metadata": {
        "colab": {
          "base_uri": "https://localhost:8080/",
          "height": 857
        },
        "id": "V_zGuVC1VCEl",
        "outputId": "8d8803c8-9e2e-4b49-fe07-50ce3b49f23c"
      },
      "outputs": [
        {
          "output_type": "display_data",
          "data": {
            "text/plain": [
              "plot without title"
            ],
            "image/png": "[encoded data removed]"
          },
          "metadata": {
            "image/png": {
              "width": 420,
              "height": 420
            }
          }
        },
        {
          "output_type": "display_data",
          "data": {
            "text/plain": [
              "plot without title"
            ],
            "image/png": "[encoded data removed]"
          },
          "metadata": {
            "image/png": {
              "width": 420,
              "height": 420
            }
          }
        }
      ],
      "source": [
        "# 結婚年齡\n",
        "# X：以妻年齡來看\n",
        "# Y：對數\n",
        "library(ggplot2)\n",
        "plt = new.env()\n",
        "plt$ggplot = ggplot(data=marriageTaoYuan)\n",
        "plt$geoms = list(\n",
        "  geom_col(\n",
        "    mapping=aes(\n",
        "      x=female_age_or_spouse1,\n",
        "      y=marry_pair\n",
        "    ),\n",
        "    position=\"stack\" # sum across sites within same age group.\n",
        "  )\n",
        ")\n",
        "plt$ggplot + plt$geoms\n",
        "\n",
        "# To solve the text horizontal overlapping problem, \n",
        "plt$ggplot + plt$geoms + coord_flip()"
      ]
    },
    {
      "cell_type": "markdown",
      "source": [
        "Another way to solve horizontal text overlapping problem is to tilt text on the axis."
      ],
      "metadata": {
        "id": "iE_ZO6BqUBN1"
      }
    },
    {
      "cell_type": "code",
      "execution_count": null,
      "metadata": {
        "colab": {
          "base_uri": "https://localhost:8080/",
          "height": 857
        },
        "id": "AtVZM0QaVcxj",
        "outputId": "896fa618-2b65-4562-bcfe-fbbb2696bff2"
      },
      "outputs": [
        {
          "output_type": "display_data",
          "data": {
            "text/plain": [
              "plot without title"
            ],
            "image/png": "[encoded data removed]"
          },
          "metadata": {
            "image/png": {
              "width": 420,
              "height": 420
            }
          }
        },
        {
          "output_type": "display_data",
          "data": {
            "text/plain": [
              "plot without title"
            ],
            "image/png": "[encoded data removed]"
          },
          "metadata": {
            "image/png": {
              "width": 420,
              "height": 420
            }
          }
        }
      ],
      "source": [
        "plt$ggplot + plt$geoms+\n",
        "  theme(\n",
        "    axis.text.x = element_text(\n",
        "      angle=45,\n",
        "      hjust = 1 # define text position base point using its tail\n",
        "    )\n",
        "  )\n",
        "\n",
        "plt$theme = theme(\n",
        "    axis.text.x = element_text(\n",
        "      angle=45,\n",
        "      hjust = 1 # define text position base point using its tail\n",
        "    )\n",
        "  )\n",
        "\n",
        "plt$ggplot + plt$geoms + plt$theme"
      ]
    },
    {
      "cell_type": "markdown",
      "metadata": {
        "id": "rlwO5p74WVBT"
      },
      "source": [
        "# Y look weird\n",
        "\n",
        "## Check class"
      ]
    },
    {
      "cell_type": "code",
      "execution_count": null,
      "metadata": {
        "id": "ghMhZbVZWZZY",
        "colab": {
          "base_uri": "https://localhost:8080/",
          "height": 323
        },
        "outputId": "d1f24539-0fc0-4583-bd14-387993cc77bf"
      },
      "outputs": [
        {
          "output_type": "display_data",
          "data": {
            "text/html": [
              "<dl>\n",
              "\t<dt>$statistic_yyy</dt>\n",
              "\t\t<dd>'character'</dd>\n",
              "\t<dt>$according</dt>\n",
              "\t\t<dd>'character'</dd>\n",
              "\t<dt>$site_id</dt>\n",
              "\t\t<dd>'character'</dd>\n",
              "\t<dt>$marriage_type</dt>\n",
              "\t\t<dd>'character'</dd>\n",
              "\t<dt>$female_age_or_spouse1</dt>\n",
              "\t\t<dd>'character'</dd>\n",
              "\t<dt>$male_age_or_spouse2</dt>\n",
              "\t\t<dd>'character'</dd>\n",
              "\t<dt>$marry_pair</dt>\n",
              "\t\t<dd>'character'</dd>\n",
              "\t<dt>$site_id2</dt>\n",
              "\t\t<dd>'character'</dd>\n",
              "</dl>\n"
            ],
            "text/markdown": "$statistic_yyy\n:   'character'\n$according\n:   'character'\n$site_id\n:   'character'\n$marriage_type\n:   'character'\n$female_age_or_spouse1\n:   'character'\n$male_age_or_spouse2\n:   'character'\n$marry_pair\n:   'character'\n$site_id2\n:   'character'\n\n\n",
            "text/latex": "\\begin{description}\n\\item[\\$statistic\\_yyy] 'character'\n\\item[\\$according] 'character'\n\\item[\\$site\\_id] 'character'\n\\item[\\$marriage\\_type] 'character'\n\\item[\\$female\\_age\\_or\\_spouse1] 'character'\n\\item[\\$male\\_age\\_or\\_spouse2] 'character'\n\\item[\\$marry\\_pair] 'character'\n\\item[\\$site\\_id2] 'character'\n\\end{description}\n",
            "text/plain": [
              "$statistic_yyy\n",
              "[1] \"character\"\n",
              "\n",
              "$according\n",
              "[1] \"character\"\n",
              "\n",
              "$site_id\n",
              "[1] \"character\"\n",
              "\n",
              "$marriage_type\n",
              "[1] \"character\"\n",
              "\n",
              "$female_age_or_spouse1\n",
              "[1] \"character\"\n",
              "\n",
              "$male_age_or_spouse2\n",
              "[1] \"character\"\n",
              "\n",
              "$marry_pair\n",
              "[1] \"character\"\n",
              "\n",
              "$site_id2\n",
              "[1] \"character\"\n"
            ]
          },
          "metadata": {}
        }
      ],
      "source": [
        "marriageTaoYuan |>\n",
        "  purrr::map(class)\n"
      ]
    },
    {
      "cell_type": "code",
      "execution_count": null,
      "metadata": {
        "id": "I4Nd3-YEWhr3"
      },
      "outputs": [],
      "source": [
        "marriageTaoYuan |>\n",
        "  mutate(\n",
        "    marry_pair = as.integer(marry_pair)\n",
        "  ) -> marriageTaoYuan"
      ]
    },
    {
      "cell_type": "markdown",
      "metadata": {
        "id": "owFtgQWPVB1Z"
      },
      "source": []
    },
    {
      "cell_type": "code",
      "execution_count": null,
      "metadata": {
        "id": "yLqnG-O2YhAX",
        "colab": {
          "base_uri": "https://localhost:8080/",
          "height": 437
        },
        "outputId": "71e925f5-c13e-46dd-8559-92da54e70e64"
      },
      "outputs": [
        {
          "output_type": "display_data",
          "data": {
            "text/plain": [
              "plot without title"
            ],
            "image/png": "[encoded data removed]"
          },
          "metadata": {
            "image/png": {
              "width": 420,
              "height": 420
            }
          }
        }
      ],
      "source": [
        "plt$ggplot = ggplot(data=marriageTaoYuan)\n",
        "plt$theme = theme(\n",
        "  axis.text.x = element_text(\n",
        "    angle=45, hjust=1\n",
        "  )\n",
        ")\n",
        "plt$ggplot + plt$geoms +  plt$theme"
      ]
    },
    {
      "cell_type": "code",
      "source": [
        "marriageTaoYuan$female_age_or_spouse1 |>\n",
        "  factor() |>\n",
        "  levels() -> defaultLevels\n",
        "lastIndex = length(defaultLevels)\n",
        "\n",
        "c(\n",
        "  defaultLevels[[lastIndex]], # \"未滿15歲\",\n",
        "  defaultLevels[-lastIndex]\n",
        ") -> correctLevels\n",
        "\n",
        "marriageTaoYuan$female_age_or_spouse1 |>\n",
        "  factor(\n",
        "    levels=correctLevels\n",
        "  ) -> marriageTaoYuan$female_age_or_spouse1\n"
      ],
      "metadata": {
        "id": "lntgEeo9UMzp"
      },
      "execution_count": null,
      "outputs": []
    },
    {
      "cell_type": "markdown",
      "source": [
        "# Data cleanning and manipulation\n",
        "\n",
        "Data cleanning and manipulation are normally targeting a data frame result to be used in graph or table. In each step, the following step expects a data frame to start with.\n",
        "\n",
        "In the above case, we start with a flawed `marriageTaoYuan` do class correction to achieve a correct-class `marriageTaoYuan`. We can write it as a programming block, putting desired output data frame as the last line:\n",
        "```\n",
        "{\n",
        "  marriageTaoYuan$female_age_or_spouse1 |>\n",
        "    factor() |>\n",
        "    levels() -> defaultLevels\n",
        "  lastIndex = length(defaultLevels)\n",
        "\n",
        "  c(\n",
        "    defaultLevels[[lastIndex]], # \"未滿15歲\",\n",
        "    defaultLevels[-lastIndex]\n",
        "  ) -> correctLevels\n",
        "\n",
        "  marriageTaoYuan$female_age_or_spouse1 |>\n",
        "    factor(\n",
        "      levels=correctLevels\n",
        "    ) -> marriageTaoYuan$female_age_or_spouse1\n",
        "\n",
        "  marriageTaoYuan # this is added as the last line to represents the desired output\n",
        "}\n",
        "```\n",
        "\n",
        "Every programming block can be turned into a function. In our case,\n",
        "```\n",
        "correctClass = function(marriageTaoYuan){\n",
        "\n",
        "  # marry_pair should be numeric\n",
        "  marriageTaoYuan |>\n",
        "  mutate(\n",
        "    marry_pair = as.integer(marry_pair)\n",
        "  ) -> marriageTaoYuan\n",
        "\n",
        "  # female_age_or_spouse1 should have the right levels\n",
        "  marriageTaoYuan$female_age_or_spouse1 |>\n",
        "    factor() |>\n",
        "    levels() -> defaultLevels\n",
        "  lastIndex = length(defaultLevels)\n",
        "\n",
        "  c(\n",
        "    defaultLevels[[lastIndex]], # \"未滿15歲\",\n",
        "    defaultLevels[-lastIndex]\n",
        "  ) -> correctLevels\n",
        "\n",
        "  marriageTaoYuan$female_age_or_spouse1 |>\n",
        "    factor(\n",
        "      levels=correctLevels\n",
        "    ) -> marriageTaoYuan$female_age_or_spouse1\n",
        "\n",
        "  return(marriageTaoYuan) # this is added as the last line to represents the desired output\n",
        "}\n",
        "```\n",
        "\n",
        "With this setup, we can put this correctClass function in other `.R` file. When we need it, we can \n",
        "```\n",
        "source(\"path to the .R file\")\n",
        "\n",
        "marriageTaoYuan |> correctClass() -> marriageTaoYuan\n",
        "```"
      ],
      "metadata": {
        "id": "mr2-08WcURty"
      }
    },
    {
      "cell_type": "code",
      "source": [
        "plt$ggplot = ggplot(data=marriageTaoYuan)\n",
        "plt$theme = theme(\n",
        "  axis.text.x = element_text(\n",
        "    angle=45, hjust=1\n",
        "  )\n",
        ")\n",
        "plt$ggplot + plt$geoms +  plt$theme"
      ],
      "metadata": {
        "colab": {
          "base_uri": "https://localhost:8080/",
          "height": 437
        },
        "id": "bcgASFftVPa2",
        "outputId": "d039f6bb-fdae-483a-b2ab-2d23f32d513a"
      },
      "execution_count": null,
      "outputs": [
        {
          "output_type": "display_data",
          "data": {
            "text/plain": [
              "plot without title"
            ],
            "image/png": "[encoded data removed]"
          },
          "metadata": {
            "image/png": {
              "width": 420,
              "height": 420
            }
          }
        }
      ]
    },
    {
      "cell_type": "markdown",
      "source": [
        "# 哪個行政區的女性較晚婚\n",
        "\n",
        "晚婚：30＋\n",
        "\n",
        "Suppose you want to use geom_col to show the evidence. You can try to write down the mapping in `geom_col`. If there is no column that fit the mapping need, just makeup a column name that by looking at the name you know what that column means, and furthermore what targert column that you want. "
      ],
      "metadata": {
        "id": "TN0rq-PLVimr"
      }
    },
    {
      "cell_type": "code",
      "source": [
        "geom_col(\n",
        "  mapping = aes(\n",
        "    x = site_id2,\n",
        "    y = prop_female_lateMarriage\n",
        "  )\n",
        ")"
      ],
      "metadata": {
        "id": "BZNV5fo_WrFt"
      },
      "execution_count": null,
      "outputs": []
    },
    {
      "cell_type": "markdown",
      "source": [
        "Here, we write down `prop_female_lateMarriage` meaning proportion of female who married late. \n",
        "\n",
        "\"每個行政區，在登記結婚的女性中晚婚的比率\"\n",
        "\n",
        "\n",
        "*   計算每個行政區登記對數\n",
        "*   計算每個行政區女性晚婚的登記對數\n",
        "*   每個行政區女性晚婚的登記比率 ＝每個行政區女性晚婚的登記對數/每個行政區的登記對數\n",
        "\n"
      ],
      "metadata": {
        "id": "SNpgQs26YSyA"
      }
    },
    {
      "cell_type": "code",
      "source": [
        "# 計算每個（group_by)行政區登記對數(mutate(total_marry_pair = ...))\n",
        "marriageTaoYuan |>\n",
        "  group_by(site_id2) |>\n",
        "  summarise(\n",
        "    total_marry_pair = sum(marry_pair)\n",
        "  ) -> marriageTaoYuanTotal\n",
        "\n",
        "# 計算每個（group_by)行政區女性晚婚(condition)登記對數(mutate(late_marry_pair = ...))\n",
        "marriageTaoYuan |>\n",
        "  dplyr::filter(\n",
        "    # 女性晚婚條件\n",
        "    female_age_or_spouse1 %in% c(\"30歲\", \"31歲\", \"32歲\", \"33歲\", \"34歲\", \"35～39歲\", \n",
        "\"40～44歲\", \"45～54歲\", \"55～64歲\", \"65歲以上\")\n",
        "  ) |>\n",
        "  group_by(site_id2) |>\n",
        "  summarise(\n",
        "    late_marry_pair = sum(marry_pair)\n",
        "  ) -> marriageTaoYuanLate\n",
        "\n",
        "# 每個行政區女性晚婚的登記比率\n",
        "marriageTaoYuanLate |> \n",
        "  left_join(marriageTaoYuanTotal,\n",
        "    by=c(\"site_id2\")) -> \n",
        "  marriageTaoYuanLate\n",
        "marriageTaoYuanLate |>\n",
        "  mutate(\n",
        "    prop_marry_pair_late = \n",
        "      late_marry_pair/total_marry_pair\n",
        "  ) -> marriageTaoYuanLate\n",
        "marriageTaoYuanLate"
      ],
      "metadata": {
        "colab": {
          "base_uri": "https://localhost:8080/",
          "height": 505
        },
        "id": "fbNk_JqUZanw",
        "outputId": "86f43752-c09f-4681-fba6-fe6c96e2b50a"
      },
      "execution_count": null,
      "outputs": [
        {
          "output_type": "display_data",
          "data": {
            "text/html": [
              "<table class=\"dataframe\">\n",
              "<caption>A tibble: 13 × 4</caption>\n",
              "<thead>\n",
              "\t<tr><th scope=col>site_id2</th><th scope=col>late_marry_pair</th><th scope=col>total_marry_pair</th><th scope=col>prop_marry_pair_late</th></tr>\n",
              "\t<tr><th scope=col>&lt;chr&gt;</th><th scope=col>&lt;int&gt;</th><th scope=col>&lt;int&gt;</th><th scope=col>&lt;dbl&gt;</th></tr>\n",
              "</thead>\n",
              "<tbody>\n",
              "\t<tr><td>中壢區</td><td>1329</td><td>2407</td><td>0.5521396</td></tr>\n",
              "\t<tr><td>八德區</td><td> 615</td><td>1143</td><td>0.5380577</td></tr>\n",
              "\t<tr><td>大園區</td><td> 215</td><td> 487</td><td>0.4414784</td></tr>\n",
              "\t<tr><td>大溪區</td><td> 219</td><td> 453</td><td>0.4834437</td></tr>\n",
              "\t<tr><td>平鎮區</td><td> 627</td><td>1178</td><td>0.5322581</td></tr>\n",
              "\t<tr><td>復興區</td><td>  31</td><td>  83</td><td>0.3734940</td></tr>\n",
              "\t<tr><td>新屋區</td><td> 123</td><td> 259</td><td>0.4749035</td></tr>\n",
              "\t<tr><td>桃園區</td><td>1419</td><td>2555</td><td>0.5553816</td></tr>\n",
              "\t<tr><td>楊梅區</td><td> 484</td><td> 940</td><td>0.5148936</td></tr>\n",
              "\t<tr><td>蘆竹區</td><td> 435</td><td> 820</td><td>0.5304878</td></tr>\n",
              "\t<tr><td>觀音區</td><td> 208</td><td> 387</td><td>0.5374677</td></tr>\n",
              "\t<tr><td>龍潭區</td><td> 369</td><td> 730</td><td>0.5054795</td></tr>\n",
              "\t<tr><td>龜山區</td><td> 484</td><td> 880</td><td>0.5500000</td></tr>\n",
              "</tbody>\n",
              "</table>\n"
            ],
            "text/markdown": "\nA tibble: 13 × 4\n\n| site_id2 &lt;chr&gt; | late_marry_pair &lt;int&gt; | total_marry_pair &lt;int&gt; | prop_marry_pair_late &lt;dbl&gt; |\n|---|---|---|---|\n| 中壢區 | 1329 | 2407 | 0.5521396 |\n| 八德區 |  615 | 1143 | 0.5380577 |\n| 大園區 |  215 |  487 | 0.4414784 |\n| 大溪區 |  219 |  453 | 0.4834437 |\n| 平鎮區 |  627 | 1178 | 0.5322581 |\n| 復興區 |   31 |   83 | 0.3734940 |\n| 新屋區 |  123 |  259 | 0.4749035 |\n| 桃園區 | 1419 | 2555 | 0.5553816 |\n| 楊梅區 |  484 |  940 | 0.5148936 |\n| 蘆竹區 |  435 |  820 | 0.5304878 |\n| 觀音區 |  208 |  387 | 0.5374677 |\n| 龍潭區 |  369 |  730 | 0.5054795 |\n| 龜山區 |  484 |  880 | 0.5500000 |\n\n",
            "text/latex": "A tibble: 13 × 4\n\\begin{tabular}{llll}\n site\\_id2 & late\\_marry\\_pair & total\\_marry\\_pair & prop\\_marry\\_pair\\_late\\\\\n <chr> & <int> & <int> & <dbl>\\\\\n\\hline\n\t 中壢區 & 1329 & 2407 & 0.5521396\\\\\n\t 八德區 &  615 & 1143 & 0.5380577\\\\\n\t 大園區 &  215 &  487 & 0.4414784\\\\\n\t 大溪區 &  219 &  453 & 0.4834437\\\\\n\t 平鎮區 &  627 & 1178 & 0.5322581\\\\\n\t 復興區 &   31 &   83 & 0.3734940\\\\\n\t 新屋區 &  123 &  259 & 0.4749035\\\\\n\t 桃園區 & 1419 & 2555 & 0.5553816\\\\\n\t 楊梅區 &  484 &  940 & 0.5148936\\\\\n\t 蘆竹區 &  435 &  820 & 0.5304878\\\\\n\t 觀音區 &  208 &  387 & 0.5374677\\\\\n\t 龍潭區 &  369 &  730 & 0.5054795\\\\\n\t 龜山區 &  484 &  880 & 0.5500000\\\\\n\\end{tabular}\n",
            "text/plain": [
              "   site_id2 late_marry_pair total_marry_pair prop_marry_pair_late\n",
              "1  中壢區   1329            2407             0.5521396           \n",
              "2  八德區    615            1143             0.5380577           \n",
              "3  大園區    215             487             0.4414784           \n",
              "4  大溪區    219             453             0.4834437           \n",
              "5  平鎮區    627            1178             0.5322581           \n",
              "6  復興區     31              83             0.3734940           \n",
              "7  新屋區    123             259             0.4749035           \n",
              "8  桃園區   1419            2555             0.5553816           \n",
              "9  楊梅區    484             940             0.5148936           \n",
              "10 蘆竹區    435             820             0.5304878           \n",
              "11 觀音區    208             387             0.5374677           \n",
              "12 龍潭區    369             730             0.5054795           \n",
              "13 龜山區    484             880             0.5500000           "
            ]
          },
          "metadata": {}
        }
      ]
    },
    {
      "cell_type": "markdown",
      "source": [
        "\n",
        "the condition levels can be done through:\n",
        "```\n",
        "marriageTaoYuan$marry_pair |> \n",
        "  as.integer() -> marriageTaoYuan$marry_pair\n",
        "allLevels = levels(marriageTaoYuan$female_age_or_spouse1)\n",
        "lateMarriageLevels = allLevels[-c(1:16)]\n",
        "lateMarriageLevels |> dput()\n",
        "```\n",
        "\n"
      ],
      "metadata": {
        "id": "X9ze8UgMdiJw"
      }
    },
    {
      "cell_type": "markdown",
      "source": [
        "We can also put the above program as a function with df-in-df-out feature:\n"
      ],
      "metadata": {
        "id": "3FBT-Af3eAsW"
      }
    },
    {
      "cell_type": "code",
      "source": [
        "prepareProportionFemaleLateMarriage = function(marriageTaoYuan){\n",
        "  # 計算每個（group_by)行政區登記對數(mutate(total_marry_pair = ...))\n",
        "  marriageTaoYuan |>\n",
        "    group_by(site_id2) |>\n",
        "    summarise(\n",
        "      total_marry_pair = sum(marry_pair)\n",
        "    ) -> marriageTaoYuanTotal\n",
        "\n",
        "  # 計算每個（group_by)行政區女性晚婚(condition)登記對數(mutate(late_marry_pair = ...))\n",
        "  marriageTaoYuan |>\n",
        "    dplyr::filter(\n",
        "      # 女性晚婚條件\n",
        "      female_age_or_spouse1 %in% c(\"30歲\", \"31歲\", \"32歲\", \"33歲\", \"34歲\", \"35～39歲\", \n",
        "  \"40～44歲\", \"45～54歲\", \"55～64歲\", \"65歲以上\")\n",
        "    ) |>\n",
        "    group_by(site_id2) |>\n",
        "    summarise(\n",
        "      late_marry_pair = sum(marry_pair)\n",
        "    ) -> marriageTaoYuanLate\n",
        "\n",
        "  # 每個行政區女性晚婚的登記比率\n",
        "  marriageTaoYuanLate |> \n",
        "    left_join(marriageTaoYuanTotal,\n",
        "      by=c(\"site_id2\")) -> \n",
        "    marriageTaoYuanLate\n",
        "  marriageTaoYuanLate |>\n",
        "    mutate(\n",
        "      prop_marry_pair_late = \n",
        "        late_marry_pair/total_marry_pair\n",
        "    ) -> marriageTaoYuanLate\n",
        "  marriageTaoYuanLate\n",
        "}"
      ],
      "metadata": {
        "id": "o0aLvSNOeKl7"
      },
      "execution_count": null,
      "outputs": []
    },
    {
      "cell_type": "code",
      "source": [
        "marriageTaoYuan |> \n",
        "  prepareProportionFemaleLateMarriage() ->\n",
        "  marriageTaoYuanLate\n",
        "\n",
        "ggplot(data=marriageTaoYuanLate)+\n",
        "geom_col(\n",
        "  mapping=aes(\n",
        "    x=site_id2,\n",
        "    y=prop_marry_pair_late\n",
        "  )\n",
        ") + coord_flip()"
      ],
      "metadata": {
        "colab": {
          "base_uri": "https://localhost:8080/",
          "height": 437
        },
        "id": "Zb7YJMg9c4ow",
        "outputId": "c55cd445-cc73-4042-f917-17fbd283b99e"
      },
      "execution_count": null,
      "outputs": [
        {
          "output_type": "display_data",
          "data": {
            "text/plain": [
              "plot without title"
            ],
            "image/png": "[encoded data removed]"
          },
          "metadata": {
            "image/png": {
              "width": 420,
              "height": 420
            }
          }
        }
      ]
    }
  ],
  "metadata": {
    "colab": {
      "provenance": [],
      "collapsed_sections": [],
      "authorship_tag": "ABX9TyPrXwP5/x5vOvxmfyi7/SO/",
      "include_colab_link": true
    },
    "kernelspec": {
      "display_name": "R",
      "name": "ir"
    },
    "language_info": {
      "name": "R"
    }
  },
  "nbformat": 4,
  "nbformat_minor": 0
}